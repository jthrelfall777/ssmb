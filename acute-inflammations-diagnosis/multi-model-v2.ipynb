{
 "cells": [
  {
   "cell_type": "code",
   "execution_count": 14,
   "metadata": {},
   "outputs": [],
   "source": [
    "# Regression Example With Boston Dataset: Baseline\n",
    "import math\n",
    "import numpy as np\n",
    "import pandas as pd\n",
    "from sqlalchemy import create_engine\n",
    "from sklearn.preprocessing import LabelEncoder\n",
    "from joblib import dump, load\n",
    "# Standard ML Models for comparison\n",
    "from sklearn.linear_model import LinearRegression\n",
    "from sklearn.linear_model import ElasticNet\n",
    "from sklearn.ensemble import RandomForestRegressor\n",
    "from sklearn.ensemble import ExtraTreesRegressor\n",
    "from sklearn.ensemble import GradientBoostingRegressor\n",
    "from sklearn.svm import SVR\n",
    "from sklearn.metrics import accuracy_score, roc_auc_score, recall_score, precision_score, classification_report\n",
    "# Splitting data into training/testing\n",
    "from sklearn.model_selection import train_test_split, cross_val_score, cross_validate\n",
    "from sklearn.preprocessing import MinMaxScaler\n",
    "\n",
    "#Classifiers\n",
    "from sklearn.neural_network import MLPClassifier\n",
    "from sklearn.neighbors import KNeighborsClassifier\n",
    "from sklearn.svm import SVC\n",
    "from sklearn.gaussian_process import GaussianProcessClassifier\n",
    "from sklearn.gaussian_process.kernels import RBF\n",
    "from sklearn.tree import DecisionTreeClassifier\n",
    "from sklearn.ensemble import RandomForestClassifier, AdaBoostClassifier\n",
    "from sklearn.naive_bayes import GaussianNB\n",
    "from sklearn.discriminant_analysis import QuadraticDiscriminantAnalysis\n",
    "\n",
    "\n",
    "# Metrics\n",
    "from sklearn.metrics import mean_squared_error, mean_absolute_error, median_absolute_error\n",
    "\n",
    "# Distributions\n",
    "import scipy"
   ]
  },
  {
   "cell_type": "code",
   "execution_count": 5,
   "metadata": {},
   "outputs": [],
   "source": [
    "multiclass = False\n",
    "df = pd.read_csv(\"./acute-inflammations-diagnosis-discretized.csv\")\n",
    "#df = df.sample(frac=1)\n",
    "cols = df.columns"
   ]
  },
  {
   "cell_type": "code",
   "execution_count": 3,
   "metadata": {},
   "outputs": [],
   "source": [
    "X = df.iloc[:,0:len(cols)-1]\n",
    "Y = df.iloc[:,len(cols)-1]"
   ]
  },
  {
   "cell_type": "code",
   "execution_count": 34,
   "metadata": {},
   "outputs": [],
   "source": [
    "def model_report(model_name, model, model_scores):\n",
    "    model_dict = {'model_name': model_name, 'model': model}\n",
    "    model_dict['test_accuracy'] = model_scores['test_accuracy']\n",
    "    model_dict['test_recall'] = model_scores['test_recall']\n",
    "    model_dict['test_precision'] = model_scores['test_precision']\n",
    "    return model_dict"
   ]
  },
  {
   "cell_type": "code",
   "execution_count": 33,
   "metadata": {},
   "outputs": [
    {
     "name": "stderr",
     "output_type": "stream",
     "text": [
      "/opt/conda/lib/python3.8/site-packages/sklearn/discriminant_analysis.py:715: UserWarning: Variables are collinear\n",
      "  warnings.warn(\"Variables are collinear\")\n",
      "/opt/conda/lib/python3.8/site-packages/sklearn/discriminant_analysis.py:715: UserWarning: Variables are collinear\n",
      "  warnings.warn(\"Variables are collinear\")\n"
     ]
    }
   ],
   "source": [
    "def evaluate():\n",
    "    # Instantiate the models\n",
    "    all_models = []\n",
    "    scoring_metrics = ['accuracy', 'precision', 'recall']\n",
    "    model_names = ['MLPClassifier', 'KNeighborsClassifier', 'SVC-Linear', 'SVC', \\\n",
    "                    'GaussianProcessClassifier', 'DecisionTreeClassifier', \\\n",
    "                    'RandomForestClassifier', 'AdaBoostClassifier', 'GaussianNB', \\\n",
    "                    'QuadraticDiscriminantAnalysis']\n",
    "    model1 = MLPClassifier(alpha=1, max_iter=1000)\n",
    "    model2 = KNeighborsClassifier(3)\n",
    "    model3 = SVC(kernel=\"linear\", C=0.025)\n",
    "    model4 = SVC(gamma=2, C=1)\n",
    "    model5 = GaussianProcessClassifier(1.0 * RBF(1.0))\n",
    "    model6 = DecisionTreeClassifier(max_depth=5)\n",
    "    model7 = RandomForestClassifier(max_depth=5, n_estimators=10, max_features=1)\n",
    "    model8 = AdaBoostClassifier()\n",
    "    model9 = GaussianNB()\n",
    "    model10 = QuadraticDiscriminantAnalysis()\n",
    "    \n",
    "    # Train and predict with each model\n",
    "    for i, model in enumerate([model1, model2, model3, model4, model5, model6, model7, model8, model9, model10]):\n",
    "        scoring = cross_validate(model, X, Y, cv=2, scoring=scoring_metrics, return_train_score=True, return_estimator=True)\n",
    "        all_models.append(model_report(model_names[i], model, scoring))\n",
    "    \n",
    "    return all_models\n",
    "models = evaluate()"
   ]
  },
  {
   "cell_type": "code",
   "execution_count": 35,
   "metadata": {},
   "outputs": [
    {
     "name": "stdout",
     "output_type": "stream",
     "text": [
      "Model Name: MLPClassifier\n",
      "Model accuracy: 0.908\n",
      "Model recall: 1.0\n",
      "Model precision: 0.847\n",
      "\n",
      "\n",
      "Model Name: KNeighborsClassifier\n",
      "Model accuracy: 0.817\n",
      "Model recall: 0.82\n",
      "Model precision: 0.829\n",
      "\n",
      "\n",
      "Model Name: SVC-Linear\n",
      "Model accuracy: 0.842\n",
      "Model recall: 0.82\n",
      "Model precision: 0.857\n",
      "\n",
      "\n",
      "Model Name: SVC\n",
      "Model accuracy: 0.808\n",
      "Model recall: 0.82\n",
      "Model precision: 0.821\n",
      "\n",
      "\n",
      "Model Name: GaussianProcessClassifier\n",
      "Model accuracy: 0.825\n",
      "Model recall: 0.84\n",
      "Model precision: 0.829\n",
      "\n",
      "\n",
      "Model Name: DecisionTreeClassifier\n",
      "Model accuracy: 0.8\n",
      "Model recall: 0.82\n",
      "Model precision: 0.812\n",
      "\n",
      "\n",
      "Model Name: RandomForestClassifier\n",
      "Model accuracy: 0.925\n",
      "Model recall: 0.82\n",
      "Model precision: 1.0\n",
      "\n",
      "\n",
      "Model Name: AdaBoostClassifier\n",
      "Model accuracy: 0.808\n",
      "Model recall: 0.84\n",
      "Model precision: 0.812\n",
      "\n",
      "\n",
      "Model Name: GaussianNB\n",
      "Model accuracy: 0.917\n",
      "Model recall: 0.82\n",
      "Model precision: 0.981\n",
      "\n",
      "\n",
      "Model Name: QuadraticDiscriminantAnalysis\n",
      "Model accuracy: 0.867\n",
      "Model recall: 1.0\n",
      "Model precision: 0.805\n",
      "\n",
      "\n"
     ]
    }
   ],
   "source": [
    "def round_ave(number):\n",
    "    return np.round(np.average(number), decimals=3)\n",
    "for model in models:\n",
    "    print(\"Model Name: \" + str(model['model_name']))\n",
    "    print(\"Model accuracy: \" + str(round_ave(model['test_accuracy'])))\n",
    "    print(\"Model recall: \" + str(round_ave(model['test_recall'])))\n",
    "    print(\"Model precision: \" + str(round_ave(model['test_precision'])))\n",
    "    print(\"\\n\")"
   ]
  }
 ],
 "metadata": {
  "kernelspec": {
   "display_name": "Python 3",
   "language": "python",
   "name": "python3"
  },
  "language_info": {
   "codemirror_mode": {
    "name": "ipython",
    "version": 3
   },
   "file_extension": ".py",
   "mimetype": "text/x-python",
   "name": "python",
   "nbconvert_exporter": "python",
   "pygments_lexer": "ipython3",
   "version": "3.8.6"
  }
 },
 "nbformat": 4,
 "nbformat_minor": 4
}
